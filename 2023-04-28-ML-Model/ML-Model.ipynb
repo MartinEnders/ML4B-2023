{
 "cells": [
  {
   "cell_type": "markdown",
   "id": "8fdf84c8-262c-4a51-94b7-991ef485c85f",
   "metadata": {},
   "source": [
    "# ML4B - First ML Model\n",
    "\n",
    "**In this session we will train our first ML-Model - this is just for eductaional purposes and should never be transfered to production.**"
   ]
  },
  {
   "cell_type": "code",
   "execution_count": 1,
   "id": "e3d7832d-7de1-487c-8e93-c9d77c1c816f",
   "metadata": {},
   "outputs": [],
   "source": [
    "import pandas as pd\n",
    "from sklearn.ensemble import RandomForestClassifier"
   ]
  },
  {
   "cell_type": "markdown",
   "id": "c1cb8b79-f34e-42ce-a3d5-36aa4a5dc367",
   "metadata": {},
   "source": [
    "## Preprocess some data"
   ]
  },
  {
   "cell_type": "code",
   "execution_count": 2,
   "id": "13455725-97e1-43d7-99e6-276546b0a20e",
   "metadata": {},
   "outputs": [],
   "source": [
    "df_jump = pd.read_json(\"Jumping.json\")\n",
    "df_walk = pd.read_json(\"Walking.json\")\n",
    "\n",
    "# convert 'time' into date format\n",
    "\n",
    "df_walk['time'] = pd.to_datetime(df_walk['time'])\n",
    "df_jump['time'] = pd.to_datetime(df_jump['time'])\n",
    "\n",
    "# set time as index\n",
    "\n",
    "df_walk = df_walk.set_index('time')\n",
    "df_jump = df_jump.set_index('time')"
   ]
  },
  {
   "cell_type": "markdown",
   "id": "da7f901f-c3cf-45bb-b2b0-6a080a0da082",
   "metadata": {},
   "source": [
    "## Create Training Data"
   ]
  },
  {
   "cell_type": "code",
   "execution_count": 3,
   "id": "b974e563-860a-42ad-8a23-1997503bac94",
   "metadata": {},
   "outputs": [
    {
     "data": {
      "text/html": [
       "<div>\n",
       "<style scoped>\n",
       "    .dataframe tbody tr th:only-of-type {\n",
       "        vertical-align: middle;\n",
       "    }\n",
       "\n",
       "    .dataframe tbody tr th {\n",
       "        vertical-align: top;\n",
       "    }\n",
       "\n",
       "    .dataframe thead th {\n",
       "        text-align: right;\n",
       "    }\n",
       "</style>\n",
       "<table border=\"1\" class=\"dataframe\">\n",
       "  <thead>\n",
       "    <tr style=\"text-align: right;\">\n",
       "      <th></th>\n",
       "      <th>z</th>\n",
       "      <th>y</th>\n",
       "      <th>x</th>\n",
       "    </tr>\n",
       "    <tr>\n",
       "      <th>time</th>\n",
       "      <th></th>\n",
       "      <th></th>\n",
       "      <th></th>\n",
       "    </tr>\n",
       "  </thead>\n",
       "  <tbody>\n",
       "    <tr>\n",
       "      <th>2023-04-22 18:34:42.409061888</th>\n",
       "      <td>0.00000</td>\n",
       "      <td>0.000000</td>\n",
       "      <td>0.000000</td>\n",
       "    </tr>\n",
       "    <tr>\n",
       "      <th>2023-04-22 18:34:42.428047360</th>\n",
       "      <td>-0.04654</td>\n",
       "      <td>0.013878</td>\n",
       "      <td>-0.051418</td>\n",
       "    </tr>\n",
       "  </tbody>\n",
       "</table>\n",
       "</div>"
      ],
      "text/plain": [
       "                                     z         y         x\n",
       "time                                                      \n",
       "2023-04-22 18:34:42.409061888  0.00000  0.000000  0.000000\n",
       "2023-04-22 18:34:42.428047360 -0.04654  0.013878 -0.051418"
      ]
     },
     "metadata": {},
     "output_type": "display_data"
    },
    {
     "data": {
      "text/html": [
       "<div>\n",
       "<style scoped>\n",
       "    .dataframe tbody tr th:only-of-type {\n",
       "        vertical-align: middle;\n",
       "    }\n",
       "\n",
       "    .dataframe tbody tr th {\n",
       "        vertical-align: top;\n",
       "    }\n",
       "\n",
       "    .dataframe thead th {\n",
       "        text-align: right;\n",
       "    }\n",
       "</style>\n",
       "<table border=\"1\" class=\"dataframe\">\n",
       "  <thead>\n",
       "    <tr style=\"text-align: right;\">\n",
       "      <th></th>\n",
       "      <th>z</th>\n",
       "      <th>y</th>\n",
       "      <th>x</th>\n",
       "    </tr>\n",
       "    <tr>\n",
       "      <th>time</th>\n",
       "      <th></th>\n",
       "      <th></th>\n",
       "      <th></th>\n",
       "    </tr>\n",
       "  </thead>\n",
       "  <tbody>\n",
       "    <tr>\n",
       "      <th>2023-04-22 18:35:17.399175168</th>\n",
       "      <td>0.000000</td>\n",
       "      <td>0.000000</td>\n",
       "      <td>0.000000</td>\n",
       "    </tr>\n",
       "    <tr>\n",
       "      <th>2023-04-22 18:35:17.418160640</th>\n",
       "      <td>-0.101502</td>\n",
       "      <td>0.001688</td>\n",
       "      <td>-0.004524</td>\n",
       "    </tr>\n",
       "  </tbody>\n",
       "</table>\n",
       "</div>"
      ],
      "text/plain": [
       "                                      z         y         x\n",
       "time                                                       \n",
       "2023-04-22 18:35:17.399175168  0.000000  0.000000  0.000000\n",
       "2023-04-22 18:35:17.418160640 -0.101502  0.001688 -0.004524"
      ]
     },
     "metadata": {},
     "output_type": "display_data"
    }
   ],
   "source": [
    "# Select 'Accelerometer'\n",
    "df_walk_acc = df_walk[df_walk['sensor'] == 'Accelerometer'][['z', 'y', 'x']]\n",
    "display(df_walk_acc.head(2))\n",
    "\n",
    "df_jump_acc = df_jump[df_jump['sensor'] == 'Accelerometer'][['z', 'y', 'x']]\n",
    "display(df_jump_acc.head(2))\n"
   ]
  },
  {
   "cell_type": "code",
   "execution_count": 4,
   "id": "79fa1be8-9fed-43b7-9c34-d7e4b8ba868f",
   "metadata": {},
   "outputs": [],
   "source": [
    "import random\n",
    "\n",
    "walk = df_walk_acc.values\n",
    "jump = df_jump_acc.values\n",
    "\n",
    "training_data = []\n",
    "label_data = []\n",
    "\n",
    "for x in range(20):\n",
    "    start = random.randint(0, len(walk)-31)\n",
    "    end = start + 30\n",
    "    training_data.append(walk[start:end].flatten())\n",
    "    label_data.append(\"walk\")\n",
    "    \n",
    "    \n",
    "for x in range(20):\n",
    "    start = random.randint(0, len(jump)-31)\n",
    "    end = start + 30\n",
    "    training_data.append(jump[start:end].flatten())\n",
    "    label_data.append(\"jump\")\n"
   ]
  },
  {
   "cell_type": "code",
   "execution_count": 5,
   "id": "a4366b9d-b50a-4ff5-b32d-f76ff03139d0",
   "metadata": {},
   "outputs": [
    {
     "data": {
      "text/plain": [
       "RandomForestClassifier(random_state=0)"
      ]
     },
     "execution_count": 5,
     "metadata": {},
     "output_type": "execute_result"
    }
   ],
   "source": [
    "# Train\n",
    "clf = RandomForestClassifier(random_state=0)\n",
    "clf.fit(training_data, label_data)"
   ]
  },
  {
   "cell_type": "code",
   "execution_count": 6,
   "id": "36389766-8ee8-4591-a8d9-e23393e904f2",
   "metadata": {},
   "outputs": [
    {
     "name": "stdout",
     "output_type": "stream",
     "text": [
      "walk\n"
     ]
    },
    {
     "data": {
      "text/plain": [
       "array(['walk'], dtype='<U4')"
      ]
     },
     "execution_count": 6,
     "metadata": {},
     "output_type": "execute_result"
    }
   ],
   "source": [
    "# FOR EDUCATIONAL PURPOSES ONLY: NEVER EVER USE TRAINING DATA FOR TESTING\n",
    "\n",
    "i = random.randint(0, len(training_data)-1)\n",
    "test = training_data[i]\n",
    "print(label_data[i])\n",
    "\n",
    "clf.predict([test])\n",
    "\n"
   ]
  },
  {
   "cell_type": "code",
   "execution_count": 7,
   "id": "7c567402-ace7-460b-92cd-695dbbe73dbf",
   "metadata": {},
   "outputs": [],
   "source": [
    "# FOR EDUCATIONAL PURPOSES ONLY: NEVER EVER USE TRAINING DATA FOR TESTING\n",
    "\n",
    "for x in range(100):\n",
    "    i = random.randint(0, len(training_data)-1)\n",
    "    test = training_data[i]\n",
    "    label = label_data[i]\n",
    "    prediction = clf.predict([test])[0]\n",
    "    \n",
    "    if label != prediction:\n",
    "        print(f\"Label: {label}, Prediction: {prediction}\")"
   ]
  }
 ],
 "metadata": {
  "kernelspec": {
   "display_name": "Python 3 (ipykernel)",
   "language": "python",
   "name": "python3"
  },
  "language_info": {
   "codemirror_mode": {
    "name": "ipython",
    "version": 3
   },
   "file_extension": ".py",
   "mimetype": "text/x-python",
   "name": "python",
   "nbconvert_exporter": "python",
   "pygments_lexer": "ipython3",
   "version": "3.9.13"
  }
 },
 "nbformat": 4,
 "nbformat_minor": 5
}
